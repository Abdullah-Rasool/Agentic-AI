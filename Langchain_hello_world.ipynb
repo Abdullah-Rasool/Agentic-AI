{
  "cells": [
    {
      "cell_type": "markdown",
      "metadata": {
        "id": "view-in-github",
        "colab_type": "text"
      },
      "source": [
        "<a href=\"https://colab.research.google.com/github/Abdullah-Rasool/Agentic-AI/blob/main/Langchain_hello_world.ipynb\" target=\"_parent\"><img src=\"https://colab.research.google.com/assets/colab-badge.svg\" alt=\"Open In Colab\"/></a>"
      ]
    },
    {
      "cell_type": "code",
      "execution_count": 1,
      "metadata": {
        "colab": {
          "base_uri": "https://localhost:8080/"
        },
        "id": "WksQNt0P56us",
        "outputId": "13684fdf-5ef9-4393-9582-724dbf87fd71"
      },
      "outputs": [
        {
          "output_type": "stream",
          "name": "stdout",
          "text": [
            "\u001b[?25l   \u001b[90m━━━━━━━━━━━━━━━━━━━━━━━━━━━━━━━━━━━━━━━━\u001b[0m \u001b[32m0.0/41.5 kB\u001b[0m \u001b[31m?\u001b[0m eta \u001b[36m-:--:--\u001b[0m\r\u001b[2K   \u001b[90m━━━━━━━━━━━━━━━━━━━━━━━━━━━━━━━━━━━━━━━━\u001b[0m \u001b[32m41.5/41.5 kB\u001b[0m \u001b[31m2.8 MB/s\u001b[0m eta \u001b[36m0:00:00\u001b[0m\n",
            "\u001b[?25h\u001b[?25l   \u001b[90m━━━━━━━━━━━━━━━━━━━━━━━━━━━━━━━━━━━━━━━━\u001b[0m \u001b[32m0.0/411.6 kB\u001b[0m \u001b[31m?\u001b[0m eta \u001b[36m-:--:--\u001b[0m\r\u001b[2K   \u001b[90m━━━━━━━━━━━━━━━━━━━━━━━━━━━━━━━━━━━━━━━━\u001b[0m \u001b[32m411.6/411.6 kB\u001b[0m \u001b[31m24.8 MB/s\u001b[0m eta \u001b[36m0:00:00\u001b[0m\n",
            "\u001b[?25h"
          ]
        }
      ],
      "source": [
        "!pip install -q langchain langchain-google-genai"
      ]
    },
    {
      "cell_type": "code",
      "execution_count": 2,
      "metadata": {
        "id": "58joiT2a7JlT"
      },
      "outputs": [],
      "source": [
        "import langchain_google_genai as genai"
      ]
    },
    {
      "cell_type": "code",
      "execution_count": 3,
      "metadata": {
        "id": "07BEjOE09UqV"
      },
      "outputs": [],
      "source": [
        "from google.colab import userdata\n",
        "api_key = userdata.get('GOOGLE_API_KEY_1')"
      ]
    },
    {
      "cell_type": "code",
      "execution_count": 4,
      "metadata": {
        "id": "S755p3Wc97lE"
      },
      "outputs": [],
      "source": [
        "from langchain_google_genai import ChatGoogleGenerativeAI"
      ]
    },
    {
      "cell_type": "code",
      "execution_count": 5,
      "metadata": {
        "id": "DnrzWSQM-boe"
      },
      "outputs": [],
      "source": [
        "model : ChatGoogleGenerativeAI = ChatGoogleGenerativeAI(\n",
        "    model = 'gemini-1.5-flash',\n",
        "    google_api_key = api_key\n",
        ")"
      ]
    },
    {
      "cell_type": "code",
      "execution_count": 6,
      "metadata": {
        "id": "SaASmVFKAHSo"
      },
      "outputs": [],
      "source": [
        "response = model.invoke(\"Hello Gemini\")"
      ]
    },
    {
      "cell_type": "code",
      "execution_count": 7,
      "metadata": {
        "colab": {
          "base_uri": "https://localhost:8080/"
        },
        "id": "wSR9pB0xAWLF",
        "outputId": "c5bfc146-93cd-4772-abbd-ec2ba5515294"
      },
      "outputs": [
        {
          "output_type": "stream",
          "name": "stdout",
          "text": [
            "Hello there!  How can I help you today?\n"
          ]
        }
      ],
      "source": [
        "print(response.content)"
      ]
    },
    {
      "cell_type": "markdown",
      "metadata": {
        "id": "iQMq4k91vnxx"
      },
      "source": [
        "**Multi Step Product Recommendation Chatbot that uses Chaining**"
      ]
    },
    {
      "cell_type": "code",
      "execution_count": 8,
      "metadata": {
        "colab": {
          "base_uri": "https://localhost:8080/"
        },
        "id": "nowJPrGB4aGG",
        "outputId": "2fde9a0e-8b33-426a-ce8b-1b4eab1b71c4"
      },
      "outputs": [
        {
          "output_type": "stream",
          "name": "stdout",
          "text": [
            "Okay, based on your preferences for a Samsung smartphone within the $500-$1000 price range, with long battery life, a good camera, and 128GB of storage, I would recommend looking at the Samsung Galaxy S21, S22, or possibly even the A54 (depending on deals available).  The S21 and S22 are likely to be slightly better in terms of camera performance and processing power, but the A54 offers excellent value with long battery life.\n",
            "\n",
            "To help me narrow it down further, could you tell me if you prioritize:\n",
            "\n",
            "A) **Camera quality above all else?**  (In this case, the S22 might be the best choice).\n",
            "B) **Battery life is the most important factor?** (The A54 could be a strong contender).\n",
            "C) **A balance of both with good performance?** (The S21 would be a solid option).\n",
            "\n",
            "Once I know your priority, I can give you a more specific recommendation.\n"
          ]
        }
      ],
      "source": [
        "from langchain.prompts import ChatPromptTemplate\n",
        "\n",
        "# Define the conversation flow with unique questions\n",
        "prompt = ChatPromptTemplate.from_messages(\n",
        "    [\n",
        "        (\"system\", \"You are a helpful assistant for recommending products, with a focus on user preferences.\"),\n",
        "\n",
        "        (\"assistant\", \"Hi there! What type of product are you looking for today?\"),\n",
        "        (\"human\", \"{product_type}\"),  # User specifies the product type\n",
        "\n",
        "        (\"assistant\", \"Great choice! Can you tell me what price range you're looking at for a {product_type}?\"),\n",
        "        (\"human\", \"{price_range}\"),  # User specifies price range\n",
        "\n",
        "        (\"assistant\", \"Nice! Do you have any specific features you’re looking for in a {product_type}? (e.g., battery life, camera quality, etc.)\"),\n",
        "        (\"human\", \"{features}\"),  # User specifies desired features\n",
        "\n",
        "        (\"assistant\", \"What’s your preferred brand for a {product_type}?\"),\n",
        "        (\"human\", \"{brand}\"),  # User specifies the brand\n",
        "\n",
        "        (\"assistant\", \"Lastly, would you prefer any specific storage capacity or specifications for the {product_type}?\"),\n",
        "        (\"human\", \"{storage}\"),  # User specifies storage or specifications\n",
        "    ]\n",
        ")\n",
        "\n",
        "# Combine the prompt with the model into a chain\n",
        "\n",
        "chain = prompt | model\n",
        "\n",
        "# Example user input to test the chatbot\n",
        "result = chain.invoke(\n",
        "    {\n",
        "        \"product_type\": \"smartphone\",  # Example product type\n",
        "        \"price_range\": \"$500 - $1000\",  # Example price range\n",
        "        \"features\": \"Long battery life, good camera\",  # Example features\n",
        "        \"brand\": \"Samsung\",  # Example brand preference\n",
        "        \"storage\": \"128GB\"  # Example storage preference\n",
        "    }\n",
        ")\n",
        "\n",
        "# Output the result\n",
        "print(result.content)\n"
      ]
    },
    {
      "cell_type": "markdown",
      "source": [
        "# **Cricket Chatbot Prompt**"
      ],
      "metadata": {
        "id": "D98UoKqKDFSE"
      }
    },
    {
      "cell_type": "code",
      "source": [
        "from langchain.prompts import ChatPromptTemplate\n",
        "\n",
        "# Refined prompt focused on cricket-related recommendations\n",
        "\n",
        "Cricket_prompt = ChatPromptTemplate.from_messages(\n",
        "    [\n",
        "        (\"system\", \"You are a knowledgeable assistant that helps with cricket-related recommendations.\"),\n",
        "\n",
        "        (\"assistant\", \"Hello! I'm here to help you with all things cricket. What are you looking for today?\"),\n",
        "        (\"human\", \"{topic}\"),  # User specifies the topic, e.g., players, teams, matches\n",
        "\n",
        "        (\"assistant\", \"Got it! What kind of player or team are you interested in? (e.g., batsman, bowler, all-rounder)\"),\n",
        "        (\"human\", \"{player_type}\"),  # User specifies type of player or team\n",
        "\n",
        "        (\"assistant\", \"Do you have a favorite cricket league or team? (e.g., IPL, ICC World Cup)\"),\n",
        "        (\"human\", \"{league_team}\"),  # User specifies preferred league or team\n",
        "\n",
        "        (\"assistant\", \"Do you have any specific player in mind? If yes, please share the name.\"),\n",
        "        (\"human\", \"{player_name}\"),  # User specifies a player name\n",
        "\n",
        "        (\"assistant\", \"Would you like to know more about the team's performance, or are you interested in player stats?\"),\n",
        "        (\"human\", \"{info_type}\"),  # User specifies if they want team performance or player stats\n",
        "    ]\n",
        ")\n",
        "\n",
        "# Combine the cricket-focused prompt with the model into a chain\n",
        "\n",
        "cricket_chain = Cricket_prompt | model\n",
        "\n",
        "# Test with example input for a cricket-related conversation\n",
        "\n",
        "cricket_result = cricket_chain.invoke(\n",
        "    {\n",
        "        \"topic\": \"player\",\n",
        "        \"player_type\": \"batsman\",\n",
        "        \"league_team\": \"IPL\",\n",
        "        \"player_name\": \"Virat Kohli\",\n",
        "        \"info_type\": \"player stats\"\n",
        "    }\n",
        ")\n",
        "\n",
        "# Print the result\n",
        "print(cricket_result.content)"
      ],
      "metadata": {
        "colab": {
          "base_uri": "https://localhost:8080/"
        },
        "id": "v_W-2_-JDLCq",
        "outputId": "ca94556f-8d2e-4670-f37e-b86ffebcad87"
      },
      "execution_count": 9,
      "outputs": [
        {
          "output_type": "stream",
          "name": "stdout",
          "text": [
            "Okay, here's some information on Virat Kohli's IPL stats.  Please note that these stats are subject to change as the IPL continues.  To get the most up-to-date information, I recommend checking resources like ESPNcricinfo or the official IPL website.  I can't provide live, real-time data.\n",
            "\n",
            "I can tell you about things like:\n",
            "\n",
            "* **Overall IPL Stats:**  Runs scored, average, strike rate, centuries, fifties, highest score, etc.\n",
            "* **Stats for a specific IPL season:** If you'd like to know his performance in a particular year.\n",
            "* **Stats against specific teams:** How he's performed against particular IPL franchises.\n",
            "\n",
            "To give you the best information, please tell me what specific aspect of his stats you're interested in.\n"
          ]
        }
      ]
    },
    {
      "cell_type": "markdown",
      "source": [
        "# What is Memory in LangChain?\n",
        "\n",
        "Memory allows the chatbot to remember previous interactions with the user, which makes the conversation flow more naturally over multiple turns.\n",
        "\n",
        "LangChain supports Memory through various types, and the simplest approach is using ConversationBufferMemory. This type of memory stores the entire conversation history and ensures that the assistant can reference past messages"
      ],
      "metadata": {
        "id": "_pd9ujgrJGPF"
      }
    },
    {
      "cell_type": "code",
      "source": [
        "from langchain.prompts import ChatPromptTemplate\n",
        "from langchain.memory import ConversationBufferMemory\n",
        "from langchain.chains import ConversationChain\n",
        "\n",
        "# Define the conversation flow with unique questions\n",
        "chat_prompt = ChatPromptTemplate.from_messages(\n",
        "    [\n",
        "        (\"system\", \"You are a helpful assistant.\"),\n",
        "        (\"assistant\", \"Hello! How can I assist you today?\"),\n",
        "        (\"human\", \"{chat_history}\" \"{input}\"),\n",
        "        (\"assistant\", \"Got it! Let me provide some information.\"),\n",
        "    ]\n",
        ")\n",
        "\n",
        "# Initialize memory to store chat history\n",
        "memory = ConversationBufferMemory(memory_key=\"chat_history\")\n",
        "\n",
        "# Create the conversation chain using the prompt and memory\n",
        "conversation_chain = ConversationChain(\n",
        "    llm=model,\n",
        "    memory=memory,\n",
        "    prompt=chat_prompt\n",
        ")\n",
        "\n",
        "# First question from the user\n",
        "result = conversation_chain.invoke(\n",
        "    {\n",
        "        \"input\": \"What's the weather like today?\"\n",
        "    }\n",
        ")\n",
        "\n",
        "# Output the first response\n",
        "print(result['response'])\n",
        "\n",
        "# Second question to see if memory works\n",
        "result = conversation_chain.invoke(\n",
        "    {\n",
        "        \"input\": \"What about the cricket match?\"\n",
        "    }\n",
        ")\n",
        "\n",
        "# Output the second response\n",
        "print(result['response'])"
      ],
      "metadata": {
        "colab": {
          "base_uri": "https://localhost:8080/"
        },
        "id": "qmpAeTjuPIyM",
        "outputId": "4ca455b4-b344-4328-bad2-923c2c409792"
      },
      "execution_count": 18,
      "outputs": [
        {
          "output_type": "stream",
          "name": "stdout",
          "text": [
            "I do not have access to real-time information, including current weather conditions. To get the most accurate weather information for your location, please check a reliable weather source such as:\n",
            "\n",
            "* **A weather app on your smartphone:** Most smartphones come with a pre-installed weather app, or you can download one from your app store.\n",
            "* **A weather website:** Many websites provide detailed weather forecasts, such as AccuWeather, The Weather Channel, or your national meteorological service's website.  (e.g., weather.gov for the US, met.ie for Ireland, etc.)\n",
            "\n",
            "\n",
            "Please specify your location if you'd like me to help you find a relevant weather website or app.\n",
            "I can't give you live updates on a cricket match because I don't have access to real-time data streams.  To get information on a cricket match, you'll need to use one of the following:\n",
            "\n",
            "* **Live score websites:** Many sports websites and apps (like ESPNcricinfo, for example) provide live scores, commentary, and match updates.  You'll need to search for the specific match you're interested in.\n",
            "\n",
            "* **Sports apps:** Many sports apps offer live scores and updates for various sports, including cricket.\n",
            "\n",
            "* **Television or radio broadcasts:** Check your local listings for cricket matches being broadcast.\n",
            "\n",
            "\n",
            "To help me help you, please tell me:\n",
            "\n",
            "* **Which teams are\n"
          ]
        }
      ]
    },
    {
      "cell_type": "markdown",
      "source": [
        "# **Weather Tool Integration**\n",
        "\n",
        "What is an API?\n",
        "\n",
        "An API (Application Programming Interface) lets your program communicate with another service. In this case:\n",
        "\n",
        "You send a request (e.g., city name) to the weather service.\n",
        "\n",
        "It responds with data (e.g., temperature, conditions)."
      ],
      "metadata": {
        "id": "DlvDZ7iyZIdy"
      }
    },
    {
      "cell_type": "code",
      "source": [
        "!pip install -q requests #python library To make HTTP requests to the weather API."
      ],
      "metadata": {
        "id": "uvljMM_92-MM"
      },
      "execution_count": 11,
      "outputs": []
    },
    {
      "cell_type": "code",
      "source": [
        "import requests\n",
        "\n",
        "# Function to get weather data\n",
        "def get_weather(city_name, api_key):\n",
        "    base_url = \"http://api.openweathermap.org/data/2.5/weather\"\n",
        "\n",
        "    # Construct the complete URL\n",
        "    complete_url = base_url + \"?q=\" + city_name + \"&appid=\" + api_key\n",
        "\n",
        "    # Send GET request to the API\n",
        "    response = requests.get(complete_url)\n",
        "\n",
        "    # Parse the response as JSON\n",
        "    data = response.json()\n",
        "\n",
        "    # Check if the response was successful\n",
        "    if data[\"cod\"] == \"404\":\n",
        "        return \"City not found!\"\n",
        "    else:\n",
        "        # Extract the weather information\n",
        "        main = data[\"main\"]\n",
        "        weather = data[\"weather\"][0]\n",
        "\n",
        "        # Format the output\n",
        "        temperature = main[\"temp\"] - 273.15  # Convert from Kelvin to Celsius\n",
        "        humidity = main[\"humidity\"]\n",
        "        description = weather[\"description\"]\n",
        "\n",
        "        # Return the result as a string\n",
        "        return f\"The weather in {city_name} is: {description} with a temperature of {temperature:.2f}°C\\nHumidity: {humidity}%\"\n"
      ],
      "metadata": {
        "id": "xQj0flys3rfN"
      },
      "execution_count": 12,
      "outputs": []
    },
    {
      "cell_type": "code",
      "source": [
        "# Replace with your actual API key\n",
        "api_key = \"cef422912463237d5170b74de2ab6f0b\"\n",
        "\n",
        "# Test the function with a city name\n",
        "city_name = \"Karachi\"\n",
        "weather_info = get_weather(city_name, api_key)\n",
        "\n",
        "# Print the weather info\n",
        "print(weather_info)\n"
      ],
      "metadata": {
        "colab": {
          "base_uri": "https://localhost:8080/"
        },
        "id": "c2EtKNGh9ctP",
        "outputId": "f74b8f9c-9724-4054-adfa-6df0acb5c5d7"
      },
      "execution_count": 13,
      "outputs": [
        {
          "output_type": "stream",
          "name": "stdout",
          "text": [
            "The weather in Karachi is: haze with a temperature of 20.90°C\n",
            "Humidity: 46%\n"
          ]
        }
      ]
    },
    {
      "cell_type": "markdown",
      "source": [
        "# **Integrate The Python Function As a Tool in LangChain**"
      ],
      "metadata": {
        "id": "3Liq2SCrzyB7"
      }
    },
    {
      "cell_type": "markdown",
      "source": [
        "### Wrap the Weather Function as a Tool(Class of LangChain)"
      ],
      "metadata": {
        "id": "np1gfJn00V7Z"
      }
    },
    {
      "cell_type": "code",
      "source": [
        "from langchain.tools import Tool\n",
        "\n",
        "# Define the tool by wrapping your weather function\n",
        "def weather_tool(city_name: str) -> str:\n",
        "    api_key = \"cef422912463237d5170b74de2ab6f0b\"\n",
        "    return get_weather(city_name, api_key)\n",
        "\n",
        "#Define the tool\n",
        "\n",
        "weather_api_tool = Tool(\n",
        "       name=\"get_weather\",\n",
        "       func=weather_tool,\n",
        "       description=\"Get the current weather information for a given city.\"\n",
        "   )\n"
      ],
      "metadata": {
        "id": "emQGuRxt0l3J"
      },
      "execution_count": 14,
      "outputs": []
    },
    {
      "cell_type": "markdown",
      "source": [
        "# **Initialize the Agent**"
      ],
      "metadata": {
        "id": "M4Y-XwIT7tBY"
      }
    },
    {
      "cell_type": "markdown",
      "source": [],
      "metadata": {
        "id": "AHEWaBre7wGn"
      }
    },
    {
      "cell_type": "code",
      "source": [
        "from langchain.agents import initialize_agent, AgentType , Tool\n",
        "\n",
        "\n",
        "# List of tools (here, only one tool for weather)\n",
        "\n",
        "tools = [weather_api_tool]\n",
        "\n",
        " # Initialize the agent with the tools, language model, and agent type\n",
        "\n",
        "agent = initialize_agent (\n",
        "    tools,\n",
        "    llm = model,\n",
        "    agent=AgentType.ZERO_SHOT_REACT_DESCRIPTION,  #agent type that uses to respond queries and reasoning\n",
        "    verbose=True  #to see the though process of agent step by step\n",
        "\n",
        ")\n",
        "\n",
        "result = agent.run(\"What's the weather like in Karachi?\")\n",
        "print(result)\n",
        "\n"
      ],
      "metadata": {
        "colab": {
          "base_uri": "https://localhost:8080/"
        },
        "id": "YA297Ig17xHn",
        "outputId": "17ce6505-a7a4-407e-e7f7-9745016b7a40"
      },
      "execution_count": 19,
      "outputs": [
        {
          "output_type": "stream",
          "name": "stdout",
          "text": [
            "\n",
            "\n",
            "\u001b[1m> Entering new AgentExecutor chain...\u001b[0m\n",
            "\u001b[32;1m\u001b[1;3mThought: I need to get the weather information for Karachi.\n",
            "Action: get_weather\n",
            "Action Input: Karachi\u001b[0m\n",
            "Observation: \u001b[36;1m\u001b[1;3mThe weather in Karachi is: haze with a temperature of 20.90°C\n",
            "Humidity: 46%\u001b[0m\n",
            "Thought:\u001b[32;1m\u001b[1;3mThought: I now know the final answer\n",
            "Final Answer: The weather in Karachi is haze with a temperature of 20.90°C and 46% humidity.\u001b[0m\n",
            "\n",
            "\u001b[1m> Finished chain.\u001b[0m\n",
            "The weather in Karachi is haze with a temperature of 20.90°C and 46% humidity.\n"
          ]
        }
      ]
    },
    {
      "cell_type": "markdown",
      "source": [
        "# **Explore Gemini Features**"
      ],
      "metadata": {
        "id": "CXi3BmDYxuSN"
      }
    },
    {
      "cell_type": "code",
      "source": [
        "from langchain_google_genai import ChatGoogleGenerativeAI\n",
        "from google.colab import userdata\n",
        "\n",
        "# Retrieve the API key using userdata.get()\n",
        "google_api_key = userdata.get('GOOGLE_API_KEY_1')\n",
        "\n",
        "# Define the Gemini model (gemini-flash-1.5) with the custom features\n",
        "model = ChatGoogleGenerativeAI(\n",
        "    model = 'gemini-1.5-flash',\n",
        "    google_api_key = google_api_key,\n",
        "    temperature=0.7,  # Creativity level\n",
        "    max_tokens=150,   # Max response length\n",
        "    top_p=0.9,         # Diversity\n",
        "    frequency_penalty=0.1, # Penalize repetition\n",
        "    presence_penalty=0.2    # Stick to the context\n",
        ")\n",
        "\n",
        "\n",
        "# Test the Gemini model with a simple prompt\n",
        "query = \"What are the best strategies for learning a new programming language quickly and efficiently?\"\n",
        "messages = [{\"role\": \"user\", \"content\": query}]  # Define messages as a list of user prompts\n",
        "\n",
        "\n",
        "# Get the response from the Gemini model\n",
        "response = model.invoke(messages)\n",
        "\n",
        "# Print the response\n",
        "print(response.content)"
      ],
      "metadata": {
        "colab": {
          "base_uri": "https://localhost:8080/"
        },
        "id": "le6w1PX5TxtZ",
        "outputId": "f858497b-d384-46e0-9e07-32913ac61067"
      },
      "execution_count": 16,
      "outputs": [
        {
          "output_type": "stream",
          "name": "stdout",
          "text": [
            "Learning a new programming language quickly and efficiently requires a strategic approach. Here's a breakdown of effective strategies:\n",
            "\n",
            "**I. Planning & Preparation:**\n",
            "\n",
            "1. **Define Your Goals:** What do you want to achieve with this language?  Web development? Data science? Game development?  Knowing your goal will focus your learning on relevant aspects.\n",
            "\n",
            "2. **Choose the Right Resources:**\n",
            "    * **Interactive Tutorials:** Websites like Codecademy, freeCodeCamp, Khan Academy, and others offer interactive lessons that provide immediate feedback.\n",
            "    * **Online Courses:** Platforms like Coursera, edX, Udemy, and Udacity provide structured courses, often with projects and assessments.  Look for courses with high ratings and reviews.\n",
            "    \n"
          ]
        }
      ]
    }
  ],
  "metadata": {
    "colab": {
      "provenance": [],
      "authorship_tag": "ABX9TyPaqM6kWHKJsB6uxT8MxkJs",
      "include_colab_link": true
    },
    "kernelspec": {
      "display_name": "Python 3",
      "name": "python3"
    },
    "language_info": {
      "name": "python"
    }
  },
  "nbformat": 4,
  "nbformat_minor": 0
}