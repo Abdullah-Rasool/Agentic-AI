{
  "cells": [
    {
      "cell_type": "markdown",
      "metadata": {
        "id": "view-in-github",
        "colab_type": "text"
      },
      "source": [
        "<a href=\"https://colab.research.google.com/github/Abdullah-Rasool/Agentic-AI/blob/main/Langchain_hello_world.ipynb\" target=\"_parent\"><img src=\"https://colab.research.google.com/assets/colab-badge.svg\" alt=\"Open In Colab\"/></a>"
      ]
    },
    {
      "cell_type": "code",
      "execution_count": null,
      "metadata": {
        "colab": {
          "base_uri": "https://localhost:8080/"
        },
        "id": "WksQNt0P56us",
        "outputId": "baf7b176-5290-4228-e905-e35a35f83abf"
      },
      "outputs": [
        {
          "output_type": "stream",
          "name": "stdout",
          "text": [
            "\u001b[2K   \u001b[90m━━━━━━━━━━━━━━━━━━━━━━━━━━━━━━━━━━━━━━━━\u001b[0m \u001b[32m41.5/41.5 kB\u001b[0m \u001b[31m984.7 kB/s\u001b[0m eta \u001b[36m0:00:00\u001b[0m\n",
            "\u001b[2K   \u001b[90m━━━━━━━━━━━━━━━━━━━━━━━━━━━━━━━━━━━━━━━━\u001b[0m \u001b[32m411.6/411.6 kB\u001b[0m \u001b[31m8.5 MB/s\u001b[0m eta \u001b[36m0:00:00\u001b[0m\n",
            "\u001b[?25h"
          ]
        }
      ],
      "source": [
        "!pip install -q langchain langchain-google-genai"
      ]
    },
    {
      "cell_type": "code",
      "execution_count": null,
      "metadata": {
        "id": "58joiT2a7JlT"
      },
      "outputs": [],
      "source": [
        "import langchain_google_genai as genai"
      ]
    },
    {
      "cell_type": "code",
      "execution_count": null,
      "metadata": {
        "id": "07BEjOE09UqV"
      },
      "outputs": [],
      "source": [
        "from google.colab import userdata\n",
        "api_key = userdata.get('GOOGLE_API_KEY_1')"
      ]
    },
    {
      "cell_type": "code",
      "execution_count": null,
      "metadata": {
        "id": "S755p3Wc97lE"
      },
      "outputs": [],
      "source": [
        "from langchain_google_genai import ChatGoogleGenerativeAI"
      ]
    },
    {
      "cell_type": "code",
      "execution_count": null,
      "metadata": {
        "id": "DnrzWSQM-boe"
      },
      "outputs": [],
      "source": [
        "model : ChatGoogleGenerativeAI = ChatGoogleGenerativeAI(\n",
        "    model = 'gemini-1.5-flash',\n",
        "    google_api_key = api_key\n",
        ")"
      ]
    },
    {
      "cell_type": "code",
      "execution_count": null,
      "metadata": {
        "id": "SaASmVFKAHSo"
      },
      "outputs": [],
      "source": [
        "response = model.invoke(\"Hello Gemini\")"
      ]
    },
    {
      "cell_type": "code",
      "execution_count": null,
      "metadata": {
        "colab": {
          "base_uri": "https://localhost:8080/"
        },
        "id": "wSR9pB0xAWLF",
        "outputId": "69470293-2feb-4b5d-9166-dda4be60037c"
      },
      "outputs": [
        {
          "output_type": "stream",
          "name": "stdout",
          "text": [
            "Hello there!  How can I help you today?\n"
          ]
        }
      ],
      "source": [
        "print(response.content)"
      ]
    },
    {
      "cell_type": "markdown",
      "metadata": {
        "id": "iQMq4k91vnxx"
      },
      "source": [
        "**Multi Step Product Recommendation Chatbot that uses Chaining**"
      ]
    },
    {
      "cell_type": "code",
      "execution_count": null,
      "metadata": {
        "colab": {
          "base_uri": "https://localhost:8080/"
        },
        "id": "nowJPrGB4aGG",
        "outputId": "8d048286-e73e-4d6b-f3c7-662c651146bb"
      },
      "outputs": [
        {
          "output_type": "stream",
          "name": "stdout",
          "text": [
            "Okay, based on your preferences for a Samsung smartphone within the $500-$1000 price range, with a long battery life, a good camera, and 128GB of storage, I would recommend checking out the Samsung Galaxy S21 or the Samsung Galaxy A54.  \n",
            "\n",
            "The S21 might be slightly more expensive, depending on the specific model and where you buy it, and offers flagship-level features. The A54 is a more budget-friendly option that still delivers excellent battery life and camera quality for its price point.\n",
            "\n",
            "Both offer 128GB storage options.  I recommend looking at detailed reviews and comparing their specifications to see which one best fits your needs.  Do you have any other questions or preferences I can help you with?\n"
          ]
        }
      ],
      "source": [
        "from langchain.prompts import ChatPromptTemplate\n",
        "\n",
        "# Define the conversation flow with unique questions\n",
        "prompt = ChatPromptTemplate.from_messages(\n",
        "    [\n",
        "        (\"system\", \"You are a helpful assistant for recommending products, with a focus on user preferences.\"),\n",
        "\n",
        "        (\"assistant\", \"Hi there! What type of product are you looking for today?\"),\n",
        "        (\"human\", \"{product_type}\"),  # User specifies the product type\n",
        "\n",
        "        (\"assistant\", \"Great choice! Can you tell me what price range you're looking at for a {product_type}?\"),\n",
        "        (\"human\", \"{price_range}\"),  # User specifies price range\n",
        "\n",
        "        (\"assistant\", \"Nice! Do you have any specific features you’re looking for in a {product_type}? (e.g., battery life, camera quality, etc.)\"),\n",
        "        (\"human\", \"{features}\"),  # User specifies desired features\n",
        "\n",
        "        (\"assistant\", \"What’s your preferred brand for a {product_type}?\"),\n",
        "        (\"human\", \"{brand}\"),  # User specifies the brand\n",
        "\n",
        "        (\"assistant\", \"Lastly, would you prefer any specific storage capacity or specifications for the {product_type}?\"),\n",
        "        (\"human\", \"{storage}\"),  # User specifies storage or specifications\n",
        "    ]\n",
        ")\n",
        "\n",
        "# Combine the prompt with the model into a chain\n",
        "\n",
        "chain = prompt | model\n",
        "\n",
        "# Example user input to test the chatbot\n",
        "result = chain.invoke(\n",
        "    {\n",
        "        \"product_type\": \"smartphone\",  # Example product type\n",
        "        \"price_range\": \"$500 - $1000\",  # Example price range\n",
        "        \"features\": \"Long battery life, good camera\",  # Example features\n",
        "        \"brand\": \"Samsung\",  # Example brand preference\n",
        "        \"storage\": \"128GB\"  # Example storage preference\n",
        "    }\n",
        ")\n",
        "\n",
        "# Output the result\n",
        "print(result.content)\n"
      ]
    },
    {
      "cell_type": "markdown",
      "source": [
        "# **Cricket Chatbot Prompt**"
      ],
      "metadata": {
        "id": "D98UoKqKDFSE"
      }
    },
    {
      "cell_type": "code",
      "source": [
        "from langchain.prompts import ChatPromptTemplate\n",
        "\n",
        "# Refined prompt focused on cricket-related recommendations\n",
        "\n",
        "Cricket_prompt = ChatPromptTemplate.from_messages(\n",
        "    [\n",
        "        (\"system\", \"You are a knowledgeable assistant that helps with cricket-related recommendations.\"),\n",
        "\n",
        "        (\"assistant\", \"Hello! I'm here to help you with all things cricket. What are you looking for today?\"),\n",
        "        (\"human\", \"{topic}\"),  # User specifies the topic, e.g., players, teams, matches\n",
        "\n",
        "        (\"assistant\", \"Got it! What kind of player or team are you interested in? (e.g., batsman, bowler, all-rounder)\"),\n",
        "        (\"human\", \"{player_type}\"),  # User specifies type of player or team\n",
        "\n",
        "        (\"assistant\", \"Do you have a favorite cricket league or team? (e.g., IPL, ICC World Cup)\"),\n",
        "        (\"human\", \"{league_team}\"),  # User specifies preferred league or team\n",
        "\n",
        "        (\"assistant\", \"Do you have any specific player in mind? If yes, please share the name.\"),\n",
        "        (\"human\", \"{player_name}\"),  # User specifies a player name\n",
        "\n",
        "        (\"assistant\", \"Would you like to know more about the team's performance, or are you interested in player stats?\"),\n",
        "        (\"human\", \"{info_type}\"),  # User specifies if they want team performance or player stats\n",
        "    ]\n",
        ")\n",
        "\n",
        "# Combine the cricket-focused prompt with the model into a chain\n",
        "\n",
        "cricket_chain = Cricket_prompt | model\n",
        "\n",
        "# Test with example input for a cricket-related conversation\n",
        "\n",
        "cricket_result = cricket_chain.invoke(\n",
        "    {\n",
        "        \"topic\": \"player\",\n",
        "        \"player_type\": \"batsman\",\n",
        "        \"league_team\": \"IPL\",\n",
        "        \"player_name\": \"Virat Kohli\",\n",
        "        \"info_type\": \"player stats\"\n",
        "    }\n",
        ")\n",
        "\n",
        "# Print the result\n",
        "print(cricket_result.content)"
      ],
      "metadata": {
        "colab": {
          "base_uri": "https://localhost:8080/"
        },
        "id": "v_W-2_-JDLCq",
        "outputId": "fb1f893b-cc30-4d15-b862-e44e937224b8"
      },
      "execution_count": null,
      "outputs": [
        {
          "output_type": "stream",
          "name": "stdout",
          "text": [
            "Okay, here's some information on Virat Kohli's IPL stats.  Keep in mind that these are subject to change as the IPL continues and data is updated.  To get the most up-to-date stats, I recommend checking reputable sports websites like ESPNcricinfo or similar sources.  I can't provide real-time live data.\n",
            "\n",
            "Generally, you'll find information on these key areas:\n",
            "\n",
            "* **Matches Played:**  The total number of IPL matches he's participated in.\n",
            "* **Runs Scored:**  His total runs scored throughout his IPL career.\n",
            "* **Highest Score:** His highest individual score in a single IPL innings.\n",
            "* **Average:** His average runs scored per match.\n",
            "* **Strike Rate:**  How quickly he scores runs (runs scored per 100 balls faced).\n",
            "* **Centuries:** The number of times he's scored 100 or more runs in a single innings.\n",
            "* **Fifties:** The number of times he's scored 50-99 runs in a single innings.\n",
            "* **Number of Sixes and Fours:**  The total number of sixes and fours he's hit.\n",
            "\n",
            "To get the precise numbers, please consult a dedicated cricket statistics website.  I can't access and display real-time data.  Let me know if you have any other questions about Virat Kohli or other IPL players!\n"
          ]
        }
      ]
    },
    {
      "cell_type": "markdown",
      "source": [
        "# What is Memory in LangChain?\n",
        "\n",
        "Memory allows the chatbot to remember previous interactions with the user, which makes the conversation flow more naturally over multiple turns.\n",
        "\n",
        "LangChain supports Memory through various types, and the simplest approach is using ConversationBufferMemory. This type of memory stores the entire conversation history and ensures that the assistant can reference past messages"
      ],
      "metadata": {
        "id": "_pd9ujgrJGPF"
      }
    },
    {
      "cell_type": "code",
      "source": [
        "from langchain.prompts import ChatPromptTemplate\n",
        "from langchain.memory import ConversationBufferMemory\n",
        "from langchain.chains import ConversationChain\n",
        "\n",
        "# Define the conversation flow with unique questions\n",
        "chat_prompt = ChatPromptTemplate.from_messages(\n",
        "    [\n",
        "        (\"system\", \"You are a helpful assistant.\"),\n",
        "        (\"assistant\", \"Hello! How can I assist you today?\"),\n",
        "        (\"human\", \"{chat_history}\" \"{input}\"),\n",
        "        (\"assistant\", \"Got it! Let me provide some information.\"),\n",
        "    ]\n",
        ")\n",
        "\n",
        "# Initialize memory to store chat history\n",
        "memory = ConversationBufferMemory(memory_key=\"chat_history\")\n",
        "\n",
        "# Create the conversation chain using the prompt and memory\n",
        "conversation_chain = ConversationChain(\n",
        "    llm=model,\n",
        "    memory=memory,\n",
        "    prompt=chat_prompt\n",
        ")\n",
        "\n",
        "# First question from the user\n",
        "result = conversation_chain.invoke(\n",
        "    {\n",
        "        \"input\": \"What's the weather like today?\"\n",
        "    }\n",
        ")\n",
        "\n",
        "# Output the first response\n",
        "print(result['response'])\n",
        "\n",
        "# Second question to see if memory works\n",
        "result = conversation_chain.invoke(\n",
        "    {\n",
        "        \"input\": \"What about the cricket match?\"\n",
        "    }\n",
        ")\n",
        "\n",
        "# Output the second response\n",
        "print(result['response'])"
      ],
      "metadata": {
        "colab": {
          "base_uri": "https://localhost:8080/"
        },
        "id": "qmpAeTjuPIyM",
        "outputId": "3bb78a86-e0b8-4097-f628-804838c0a7e4"
      },
      "execution_count": null,
      "outputs": [
        {
          "output_type": "stream",
          "name": "stderr",
          "text": [
            "<ipython-input-10-0a9135ecece3>:16: LangChainDeprecationWarning: Please see the migration guide at: https://python.langchain.com/docs/versions/migrating_memory/\n",
            "  memory = ConversationBufferMemory(memory_key=\"chat_history\")\n",
            "<ipython-input-10-0a9135ecece3>:19: LangChainDeprecationWarning: The class `ConversationChain` was deprecated in LangChain 0.2.7 and will be removed in 1.0. Use :meth:`~RunnableWithMessageHistory: https://python.langchain.com/v0.2/api_reference/core/runnables/langchain_core.runnables.history.RunnableWithMessageHistory.html` instead.\n",
            "  conversation_chain = ConversationChain(\n"
          ]
        },
        {
          "output_type": "stream",
          "name": "stdout",
          "text": [
            "I do not have access to real-time information, including current weather. To get the weather for your location, please use a weather app or website such as Google Weather, AccuWeather, or The Weather Channel.  You can simply search \"[your location] weather\" on your preferred search engine.\n",
            "To answer your question about the cricket match, I need more specifics.  Please tell me:\n",
            "\n",
            "* **Which cricket match?** (e.g., India vs. Australia, a specific league game, etc.)\n",
            "* **When is the match?** (e.g., today, tomorrow, a specific date)\n",
            "* **Where is the match being played?** (This helps me find reliable sources for information.)\n",
            "\n",
            "Once I have this information, I can try my best to find details about the match for you, such as the score, current status, or news related to it.\n"
          ]
        }
      ]
    },
    {
      "cell_type": "markdown",
      "source": [
        "# **Weather Tool Integration**\n",
        "\n",
        "What is an API?\n",
        "\n",
        "An API (Application Programming Interface) lets your program communicate with another service. In this case:\n",
        "\n",
        "You send a request (e.g., city name) to the weather service.\n",
        "\n",
        "It responds with data (e.g., temperature, conditions)."
      ],
      "metadata": {
        "id": "DlvDZ7iyZIdy"
      }
    },
    {
      "cell_type": "code",
      "source": [
        "!pip install -q requests #python library To make HTTP requests to the weather API."
      ],
      "metadata": {
        "id": "uvljMM_92-MM"
      },
      "execution_count": null,
      "outputs": []
    },
    {
      "cell_type": "code",
      "source": [
        "import requests\n",
        "\n",
        "# Function to get weather data\n",
        "def get_weather(city_name, api_key):\n",
        "    base_url = \"http://api.openweathermap.org/data/2.5/weather\"\n",
        "\n",
        "    # Construct the complete URL\n",
        "    complete_url = base_url + \"?q=\" + city_name + \"&appid=\" + api_key\n",
        "\n",
        "    # Send GET request to the API\n",
        "    response = requests.get(complete_url)\n",
        "\n",
        "    # Parse the response as JSON\n",
        "    data = response.json()\n",
        "\n",
        "    # Check if the response was successful\n",
        "    if data[\"cod\"] == \"404\":\n",
        "        return \"City not found!\"\n",
        "    else:\n",
        "        # Extract the weather information\n",
        "        main = data[\"main\"]\n",
        "        weather = data[\"weather\"][0]\n",
        "\n",
        "        # Format the output\n",
        "        temperature = main[\"temp\"] - 273.15  # Convert from Kelvin to Celsius\n",
        "        humidity = main[\"humidity\"]\n",
        "        description = weather[\"description\"]\n",
        "\n",
        "        # Return the result as a string\n",
        "        return f\"The weather in {city_name} is: {description} with a temperature of {temperature:.2f}°C\\nHumidity: {humidity}%\"\n"
      ],
      "metadata": {
        "id": "xQj0flys3rfN"
      },
      "execution_count": null,
      "outputs": []
    },
    {
      "cell_type": "code",
      "source": [
        "# Replace with your actual API key\n",
        "api_key = \"cef422912463237d5170b74de2ab6f0b\"\n",
        "\n",
        "# Test the function with a city name\n",
        "city_name = \"Karachi\"\n",
        "weather_info = get_weather(city_name, api_key)\n",
        "\n",
        "# Print the weather info\n",
        "print(weather_info)\n"
      ],
      "metadata": {
        "colab": {
          "base_uri": "https://localhost:8080/"
        },
        "id": "c2EtKNGh9ctP",
        "outputId": "4839a171-738f-4292-89de-2c53570ff3a0"
      },
      "execution_count": null,
      "outputs": [
        {
          "output_type": "stream",
          "name": "stdout",
          "text": [
            "The weather in Karachi is: haze with a temperature of 14.90°C\n",
            "Humidity: 58%\n"
          ]
        }
      ]
    },
    {
      "cell_type": "markdown",
      "source": [
        "# **Integrate The Python Function As a Tool in LangChain**"
      ],
      "metadata": {
        "id": "3Liq2SCrzyB7"
      }
    },
    {
      "cell_type": "markdown",
      "source": [
        "### Wrap the Weather Function as a Tool(Class of LangChain)"
      ],
      "metadata": {
        "id": "np1gfJn00V7Z"
      }
    },
    {
      "cell_type": "code",
      "source": [
        "from langchain.tools import Tool\n",
        "\n",
        "# Define the tool by wrapping your weather function\n",
        "def weather_tool(city_name: str) -> str:\n",
        "    api_key = \"cef422912463237d5170b74de2ab6f0b\"\n",
        "    return get_weather(city_name, api_key)\n",
        "\n",
        "#Define the tool\n",
        "\n",
        "weather_api_tool = Tool(\n",
        "       name=\"get_weather\",\n",
        "       func=weather_tool,\n",
        "       description=\"Get the current weather information for a given city.\"\n",
        "   )\n"
      ],
      "metadata": {
        "id": "emQGuRxt0l3J"
      },
      "execution_count": null,
      "outputs": []
    },
    {
      "cell_type": "markdown",
      "source": [
        "# **Initialize the Agent**"
      ],
      "metadata": {
        "id": "M4Y-XwIT7tBY"
      }
    },
    {
      "cell_type": "markdown",
      "source": [],
      "metadata": {
        "id": "AHEWaBre7wGn"
      }
    },
    {
      "cell_type": "code",
      "source": [
        "from langchain.agents import initialize_agent, AgentType , Tool\n",
        "\n",
        "\n",
        "# List of tools (here, only one tool for weather)\n",
        "\n",
        "tools = [weather_api_tool]\n",
        "\n",
        " # Initialize the agent with the tools, language model, and agent type\n",
        "\n",
        "agent = initialize_agent (\n",
        "    tools,\n",
        "    llm = model,\n",
        "    agent=AgentType.ZERO_SHOT_REACT_DESCRIPTION,  #agent type that uses to respond queries and reasoning\n",
        "    verbose=True  #to see the though process of agent step by step\n",
        "\n",
        ")\n",
        "\n",
        "result = agent.run(\"What's the weather like in Karachi?\")\n",
        "print(result)\n",
        "\n"
      ],
      "metadata": {
        "colab": {
          "base_uri": "https://localhost:8080/"
        },
        "id": "YA297Ig17xHn",
        "outputId": "3fcfc220-c092-459f-c97f-8709ae113924"
      },
      "execution_count": null,
      "outputs": [
        {
          "output_type": "stream",
          "name": "stdout",
          "text": [
            "\n",
            "\n",
            "\u001b[1m> Entering new AgentExecutor chain...\u001b[0m\n",
            "\u001b[32;1m\u001b[1;3mThought: I need to get the weather information for Karachi.\n",
            "Action: get_weather\n",
            "Action Input: Karachi\u001b[0m\n",
            "Observation: \u001b[36;1m\u001b[1;3mThe weather in Karachi is: haze with a temperature of 14.90°C\n",
            "Humidity: 58%\u001b[0m\n",
            "Thought:\u001b[32;1m\u001b[1;3mThought: I now know the final answer\n",
            "Final Answer: The weather in Karachi is hazy, with a temperature of 14.90°C and 58% humidity.\u001b[0m\n",
            "\n",
            "\u001b[1m> Finished chain.\u001b[0m\n",
            "The weather in Karachi is hazy, with a temperature of 14.90°C and 58% humidity.\n"
          ]
        }
      ]
    },
    {
      "cell_type": "markdown",
      "source": [
        "# **Explore Gemini Features**"
      ],
      "metadata": {
        "id": "CXi3BmDYxuSN"
      }
    },
    {
      "cell_type": "code",
      "source": [
        "from langchain_google_genai import ChatGoogleGenerativeAI\n",
        "from google.colab import userdata\n",
        "\n",
        "# Retrieve the API key using userdata.get()\n",
        "google_api_key = userdata.get('GOOGLE_API_KEY_1')\n",
        "\n",
        "# Define the Gemini model (gemini-flash-1.5) with the custom features\n",
        "model = ChatGoogleGenerativeAI(\n",
        "    model = 'gemini-1.5-flash',\n",
        "    google_api_key = google_api_key,\n",
        "    temperature=0.7,  # Creativity level\n",
        "    max_tokens=150,   # Max response length\n",
        "    top_p=0.9,         # Diversity\n",
        "    frequency_penalty=0.1, # Penalize repetition\n",
        "    presence_penalty=0.2    # Stick to the context\n",
        ")\n",
        "\n",
        "\n",
        "# Test the Gemini model with a simple prompt\n",
        "query = \"What are the best strategies for learning a new programming language quickly and efficiently?\"\n",
        "messages = [{\"role\": \"user\", \"content\": query}]  # Define messages as a list of user prompts\n",
        "\n",
        "\n",
        "# Get the response from the Gemini model\n",
        "response = model.invoke(messages)\n",
        "\n",
        "# Print the response\n",
        "print(response.content)"
      ],
      "metadata": {
        "colab": {
          "base_uri": "https://localhost:8080/"
        },
        "id": "le6w1PX5TxtZ",
        "outputId": "244b6a78-d7db-4953-9a99-8ee53c7c6a83"
      },
      "execution_count": null,
      "outputs": [
        {
          "output_type": "stream",
          "name": "stdout",
          "text": [
            "Learning a new programming language quickly and efficiently requires a structured approach. Here are some of the best strategies:\n",
            "\n",
            "**I.  Planning & Preparation:**\n",
            "\n",
            "1. **Define your goals:** What do you want to achieve with this language?  Web development? Data science? Game development?  Knowing your goal helps focus your learning.  Don't try to learn everything at once.\n",
            "\n",
            "2. **Choose the right resources:**  There's no single \"best\" resource.  Experiment with a few and find what suits your learning style:\n",
            "    * **Interactive tutorials:** Codecademy, Khan Academy, freeCodeCamp offer hands-on practice.\n",
            "    * **Online courses:** Coursera, edX, Udemy provide structured learning\n"
          ]
        }
      ]
    }
  ],
  "metadata": {
    "colab": {
      "provenance": [],
      "authorship_tag": "ABX9TyPaqM6kWHKJsB6uxT8MxkJs",
      "include_colab_link": true
    },
    "kernelspec": {
      "display_name": "Python 3",
      "name": "python3"
    },
    "language_info": {
      "name": "python"
    }
  },
  "nbformat": 4,
  "nbformat_minor": 0
}